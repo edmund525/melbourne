{
 "cells": [
  {
   "cell_type": "markdown",
   "metadata": {
    "collapsed": true
   },
   "source": [
    "# The Battle of Neighborhoods"
   ]
  },
  {
   "cell_type": "markdown",
   "metadata": {},
   "source": [
    "## Introduction"
   ]
  },
  {
   "cell_type": "markdown",
   "metadata": {},
   "source": [
    "### Being the second largest city of Australia, Melbourne is always chosen by immigrants as destination of settling family or setting up new business. It is especially good timing in 2019 since cooling measures imposed by the government on the properties market beginning late 2017 have been gaining significant price adjustment.The coming report aims at Asian immigrants who intend to set up new businesses in the central business district (CBD) of Melbourne or suburbs near the CBD, facilitating their decision making about whereabout of doing business,taken into consideration that Asian immigrants are usually more prone to be doing retail businesses such as supermarkets, restaurants or grocery stores, etc. A Hong Kong Style Food Restaurant will be planned to open in Chinatown."
   ]
  },
  {
   "cell_type": "markdown",
   "metadata": {},
   "source": [
    "## Data that will be used"
   ]
  },
  {
   "cell_type": "markdown",
   "metadata": {},
   "source": [
    "### Data that will be used includes restaurant location in Chinatown, average profit of restaurants in Chinatown, visitors in Chinatown per week, etc. These data can ensure that the restaurant can be found by most visitors in Chinatown so they can choose whether to have their meal in the restaurant. Also, we need to ensure to earn profit in the location. Restaurant type in Chinatown will be needed as we need to ensure no or only a few restaurants have the same type so there is less risk in opening the restaurant. Opening hours of other restaurants in Chinatown will also be needed. The opening hours of our restaurant should be earlier than others while the closing time sould be later so more profit could be earned."
   ]
  }
 ],
 "metadata": {
  "kernelspec": {
   "display_name": "Python 3.5",
   "language": "python",
   "name": "python3"
  },
  "language_info": {
   "codemirror_mode": {
    "name": "ipython",
    "version": 3
   },
   "file_extension": ".py",
   "mimetype": "text/x-python",
   "name": "python",
   "nbconvert_exporter": "python",
   "pygments_lexer": "ipython3",
   "version": "3.5.5"
  }
 },
 "nbformat": 4,
 "nbformat_minor": 1
}
